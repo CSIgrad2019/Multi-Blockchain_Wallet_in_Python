{
 "cells": [
  {
   "cell_type": "code",
   "execution_count": 208,
   "metadata": {},
   "outputs": [],
   "source": [
    "# import libraries\n",
    "import subprocess\n",
    "import json\n",
    "import os\n",
    "from constants import *\n",
    "from dotenv import load_dotenv\n",
    "from bipwallet import wallet\n",
    "from pathlib import Path\n",
    "from getpass import getpass\n",
    "from web3 import Web3\n",
    "from eth_account import Account\n",
    "from bit import PrivateKeyTestnet\n",
    "from bit.network import NetworkAPI\n",
    "from web3.middleware import geth_poa_middleware\n",
    "from web3.gas_strategies.time_based import medium_gas_price_strategy"
   ]
  },
  {
   "cell_type": "code",
   "execution_count": 209,
   "metadata": {},
   "outputs": [
    {
     "data": {
      "text/plain": [
       "True"
      ]
     },
     "execution_count": 209,
     "metadata": {},
     "output_type": "execute_result"
    }
   ],
   "source": [
    "load_dotenv()"
   ]
  },
  {
   "cell_type": "code",
   "execution_count": 210,
   "metadata": {},
   "outputs": [
    {
     "name": "stdout",
     "output_type": "stream",
     "text": [
      "0\n",
      "tank cheap coast suffer glory peanut second change accuse group symptom year\n"
     ]
    }
   ],
   "source": [
    "# import mnemonic from env\n",
    "filepath=\"env\"\n",
    "p = subprocess.Popen(filepath, shell=True, stdout = subprocess.PIPE)\n",
    "\n",
    "stdout, stderr = p.communicate()\n",
    "print (p.returncode) # is 0 if success\n",
    "mnemonic = os.getenv('Mnemonic')\n",
    "print(mnemonic)"
   ]
  },
  {
   "cell_type": "code",
   "execution_count": 211,
   "metadata": {},
   "outputs": [],
   "source": [
    "# connect to local ETH/ geth\n",
    "w3 = Web3(Web3.HTTPProvider('http://127.0.0.1:8545'))\n",
    "w3.middleware_onion.inject(geth_poa_middleware, layer=0)\n",
    "w3.eth.setGasPriceStrategy(medium_gas_price_strategy)\n",
    "#priv_key = Account.from_key(private_key)"
   ]
  },
  {
   "cell_type": "code",
   "execution_count": 212,
   "metadata": {},
   "outputs": [],
   "source": [
    "# Define function to derive wallet\n",
    "def derive_wallets(mnemonic, coin, numderive):\n",
    "    \"\"\"Use the subprocess library to call the php file script from Python\"\"\"\n",
    "    command = f'php ./hd-wallet-derive/hd-wallet-derive.php -g --mnemonic=\"{mnemonic}\" --numderive=\"{numderive}\" --coin=\"{coin}\" --format=json' \n",
    "    \n",
    "    p = subprocess.Popen(command, stdout=subprocess.PIPE, shell=True)\n",
    "    (output, err) = p.communicate()\n",
    "   \n",
    "    keys = json.loads(output)\n",
    "    return  keys"
   ]
  },
  {
   "cell_type": "code",
   "execution_count": 213,
   "metadata": {},
   "outputs": [
    {
     "data": {
      "text/plain": [
       "[{'path': \"m/44'/0'/0'/0/0\",\n",
       "  'address': '1ATr3t9zCcsNuvpYfpqGXqrXtM273i53HK',\n",
       "  'xprv': 'xprvA3RDC2rxkeXDWf5o8YMUVn7nGV6f7oc9QgnTXwTHpTZV9hwMgTJhsADM8ya8JsqCj6ZZefRFSUMAZuGdqHsJXbtWd2akuE958WFSzwRzbzC',\n",
       "  'xpub': 'xpub6GQZbYPrb25Wj9AGEZtUrv4WpWw9XGKzmui4LKruNo6U2WGWDzcxQxXpzGwNPmTg1bLLZCjMsib2n8H4sHjXhaggURph3nqkQSk7WfUfn5X',\n",
       "  'privkey': 'L1ezcZmcpgATf1msSspd2aVm8rR71iP8UWx7efWG76bWHpjAoydu',\n",
       "  'pubkey': '03b7f8f1170533d64bd049f69789026dce8572faf548ac9846f34e9e8f7f2454e5',\n",
       "  'pubkeyhash': '67cce44516ec834763ad3c20fbbf669ec183a56d',\n",
       "  'index': 0},\n",
       " {'path': \"m/44'/0'/0'/0/1\",\n",
       "  'address': '1FmyHXaQsVjib8uWzbi5cFBst2TM5juCRn',\n",
       "  'xprv': 'xprvA3RDC2rxkeXDXwYkqnRq3Yx84oa1gDEoKB7iDq43Ewp1qEVRDtWJSioXC2WSHbNb9H7anjzdhi6NXngYHUVdZ23JGdh8RCxBz44brmSnmDX',\n",
       "  'xpub': 'xpub6GQZbYPrb25WkRdDwoxqQgtrcqQW5fxegQ3K2DTeoHLzi2pZmRpYzX813JWVop1D9WE6aKkuAhmU8RjGn4SsnQR8tQsxY8gZ1X374pdCNXd',\n",
       "  'privkey': 'L1Sg1QeyeFBzvHFER8CNgpXYKQBemQJgBNTqcuV87wHyRn8hURGV',\n",
       "  'pubkey': '02fdd768a902fdaeaa23245fa20de8da1399353c5098f983075e5167dba3adca61',\n",
       "  'pubkeyhash': 'a2130c2fb2c58545d75ed95590aad9af67992e74',\n",
       "  'index': 1},\n",
       " {'path': \"m/44'/0'/0'/0/2\",\n",
       "  'address': '16nNsofosBm1r2UnMToL2PyZNCTTDrHVKq',\n",
       "  'xprv': 'xprvA3RDC2rxkeXDbE1KGxgSJrBbqWVhHw2ZrWt3AASdxPYeTNPsyTrVSQB6DFqtvc5yLrrdG31zK2MfF2fu9EuzCQZd3L95AmfdTSx8WtGaw7r',\n",
       "  'xpub': 'xpub6GQZbYPrb25Woi5nNzDSfz8LPYLBhPkRDjodxYrFWj5dLAj2X1AjzCVa4Wm4ohWUyATqaXjsAa5qaSXYbJdRPUhotWimwMmG5ueqPrh4bCR',\n",
       "  'privkey': 'KzReyPWNz233CAZwvSy8nXHVn5drdkdqyH1Ua7fjbJZkkM1uXUAM',\n",
       "  'pubkey': '0250ae21cf1176982ec8f03ee7afaba03fb003c18820cecd1218b8733c07e88a46',\n",
       "  'pubkeyhash': '3f6d9bba9c918e69a2ce3330c4f239109e0d7692',\n",
       "  'index': 2}]"
      ]
     },
     "execution_count": 213,
     "metadata": {},
     "output_type": "execute_result"
    }
   ],
   "source": [
    "# Test the function derive_wallets\n",
    "derive_wallets(mnemonic, 'BTC', 3)"
   ]
  },
  {
   "cell_type": "code",
   "execution_count": 214,
   "metadata": {},
   "outputs": [],
   "source": [
    "#Setting dictionary of coins to be used in the wallet\n",
    "coins = {\"eth\", \"btc-test\", \"btc\"}\n",
    "numderive = 3"
   ]
  },
  {
   "cell_type": "code",
   "execution_count": 215,
   "metadata": {},
   "outputs": [],
   "source": [
    "keys = {}\n",
    "for coin in coins:\n",
    "    keys[coin]= derive_wallets(mnemonic, coin, numderive=3)"
   ]
  },
  {
   "cell_type": "code",
   "execution_count": 216,
   "metadata": {},
   "outputs": [
    {
     "name": "stdout",
     "output_type": "stream",
     "text": [
      "\"0x8aa3acb02d044341def59cc311975d6e26461ed5a10c38e89f11c6563675367c\"\n",
      "\"cNJq398rNV8ewCj8je98DM5zgjQmB7QVmdA6VPvadYzayCiZkJJk\"\n",
      "{\n",
      "    \"btc\": [\n",
      "        {\n",
      "            \"address\": \"1ATr3t9zCcsNuvpYfpqGXqrXtM273i53HK\",\n",
      "            \"index\": 0,\n",
      "            \"path\": \"m/44'/0'/0'/0/0\",\n",
      "            \"privkey\": \"L1ezcZmcpgATf1msSspd2aVm8rR71iP8UWx7efWG76bWHpjAoydu\",\n",
      "            \"pubkey\": \"03b7f8f1170533d64bd049f69789026dce8572faf548ac9846f34e9e8f7f2454e5\",\n",
      "            \"pubkeyhash\": \"67cce44516ec834763ad3c20fbbf669ec183a56d\",\n",
      "            \"xprv\": \"xprvA3RDC2rxkeXDWf5o8YMUVn7nGV6f7oc9QgnTXwTHpTZV9hwMgTJhsADM8ya8JsqCj6ZZefRFSUMAZuGdqHsJXbtWd2akuE958WFSzwRzbzC\",\n",
      "            \"xpub\": \"xpub6GQZbYPrb25Wj9AGEZtUrv4WpWw9XGKzmui4LKruNo6U2WGWDzcxQxXpzGwNPmTg1bLLZCjMsib2n8H4sHjXhaggURph3nqkQSk7WfUfn5X\"\n",
      "        },\n",
      "        {\n",
      "            \"address\": \"1FmyHXaQsVjib8uWzbi5cFBst2TM5juCRn\",\n",
      "            \"index\": 1,\n",
      "            \"path\": \"m/44'/0'/0'/0/1\",\n",
      "            \"privkey\": \"L1Sg1QeyeFBzvHFER8CNgpXYKQBemQJgBNTqcuV87wHyRn8hURGV\",\n",
      "            \"pubkey\": \"02fdd768a902fdaeaa23245fa20de8da1399353c5098f983075e5167dba3adca61\",\n",
      "            \"pubkeyhash\": \"a2130c2fb2c58545d75ed95590aad9af67992e74\",\n",
      "            \"xprv\": \"xprvA3RDC2rxkeXDXwYkqnRq3Yx84oa1gDEoKB7iDq43Ewp1qEVRDtWJSioXC2WSHbNb9H7anjzdhi6NXngYHUVdZ23JGdh8RCxBz44brmSnmDX\",\n",
      "            \"xpub\": \"xpub6GQZbYPrb25WkRdDwoxqQgtrcqQW5fxegQ3K2DTeoHLzi2pZmRpYzX813JWVop1D9WE6aKkuAhmU8RjGn4SsnQR8tQsxY8gZ1X374pdCNXd\"\n",
      "        },\n",
      "        {\n",
      "            \"address\": \"16nNsofosBm1r2UnMToL2PyZNCTTDrHVKq\",\n",
      "            \"index\": 2,\n",
      "            \"path\": \"m/44'/0'/0'/0/2\",\n",
      "            \"privkey\": \"KzReyPWNz233CAZwvSy8nXHVn5drdkdqyH1Ua7fjbJZkkM1uXUAM\",\n",
      "            \"pubkey\": \"0250ae21cf1176982ec8f03ee7afaba03fb003c18820cecd1218b8733c07e88a46\",\n",
      "            \"pubkeyhash\": \"3f6d9bba9c918e69a2ce3330c4f239109e0d7692\",\n",
      "            \"xprv\": \"xprvA3RDC2rxkeXDbE1KGxgSJrBbqWVhHw2ZrWt3AASdxPYeTNPsyTrVSQB6DFqtvc5yLrrdG31zK2MfF2fu9EuzCQZd3L95AmfdTSx8WtGaw7r\",\n",
      "            \"xpub\": \"xpub6GQZbYPrb25Woi5nNzDSfz8LPYLBhPkRDjodxYrFWj5dLAj2X1AjzCVa4Wm4ohWUyATqaXjsAa5qaSXYbJdRPUhotWimwMmG5ueqPrh4bCR\"\n",
      "        }\n",
      "    ],\n",
      "    \"btc-test\": [\n",
      "        {\n",
      "            \"address\": \"mzNvwbvQJmdNuijvEdNK3EYMTr9P7K9JTk\",\n",
      "            \"index\": 0,\n",
      "            \"path\": \"m/44'/1'/0'/0/0\",\n",
      "            \"privkey\": \"cNJq398rNV8ewCj8je98DM5zgjQmB7QVmdA6VPvadYzayCiZkJJk\",\n",
      "            \"pubkey\": \"03f33936b87fc9384089e0b75be01ce4fa1414789673ceb00488934c1264e653d7\",\n",
      "            \"pubkeyhash\": \"cee5eedf96b6424bf6148c4535744ce12873bf62\",\n",
      "            \"xprv\": \"tprv8kjgmyg6qbN44mYBrmB6x86JEN6w5fKmpeTBX4xiFYZzmCMHey8D6wi1kezJVrnE2LQaS7vKSkBgv6CvprcJKngNFZziudYNvg5s3GZp1ED\",\n",
      "            \"xpub\": \"tpubDHRivPiLyy3ixEZykQqhMXkQoPcsEzWgPx3xob11fpNPbgc4HMwoHSKsvqZWsd6oKRxyk5ehrfmT8EQuBM5UgLWFAKCZejp4V8H1QxXaMj1\"\n",
      "        },\n",
      "        {\n",
      "            \"address\": \"mnC5fxYRxbRjD7XdfFkghnCTT2vHvwbvTF\",\n",
      "            \"index\": 1,\n",
      "            \"path\": \"m/44'/1'/0'/0/1\",\n",
      "            \"privkey\": \"cRSmQV1Yp4CfVPQ94hxBEmaZ3n66YuH5zpQuk4cRYpQZXahojLVT\",\n",
      "            \"pubkey\": \"0230ab21c4799b2b886510a5f1231fbe46e37d158a8d1448775e89c77968c40055\",\n",
      "            \"pubkeyhash\": \"493722c223506ec38083cab497e13d1806bfb3a9\",\n",
      "            \"xprv\": \"tprv8kjgmyg6qbN45pfcFUSm5DVzBWgkAG7uFr7jg76gtpTLB5dq2rwUrx5pKp59MmPwAvNtakGZGfT9uBRQUR6ATPA2HDx5qYMq6SMqujSQBva\",\n",
      "            \"xpub\": \"tpubDHRivPiLyy3iyHhQ987MUdA6kYCgKbJoq9iWxd8zK6Fj1ZtbfFm53ShgVvWi9671wHrMJtvHinddoNU7ACJE4YfzhMY6N9qsfg9ggG3JBRH\"\n",
      "        },\n",
      "        {\n",
      "            \"address\": \"mnj88Y76cYJvLs1koVVqJkVthF7VdeCojq\",\n",
      "            \"index\": 2,\n",
      "            \"path\": \"m/44'/1'/0'/0/2\",\n",
      "            \"privkey\": \"cNDFyuEDGxXC1QNkZwJ1nXvTkhNmdpAKnjZY724ayE7NTKv2GAnP\",\n",
      "            \"pubkey\": \"02922025535e0bf9559418da70b04fb521d59e7434a9d6da33cb526e4bb4ceae17\",\n",
      "            \"pubkeyhash\": \"4f161527ab9d7f6da52c94aa0e410189471bae3e\",\n",
      "            \"xprv\": \"tprv8kjgmyg6qbN49wCFcVxMme61sA6yaaBN1opEuDSvRPMXDrQejTNuKWE3uGwzH3UKKHawCzfpzPqHj4FF5Muj3L8za4AnfAaX6r25K9HfCip\",\n",
      "            \"xpub\": \"tpubDHRivPiLyy3j3QE3W9cxB3k8SBcujuNGb7R2BjVDqf9v4LfRMrCVVzqv5QrxS3BGRRVRiQzrdEJRRFaraA5rHR5Vjoi9RUe2knKc1Px7DaW\"\n",
      "        }\n",
      "    ],\n",
      "    \"eth\": [\n",
      "        {\n",
      "            \"address\": \"0x442240E814d017b819bCe6b2c4d19b3Fc195fBda\",\n",
      "            \"index\": 0,\n",
      "            \"path\": \"m/44'/60'/0'/0/0\",\n",
      "            \"privkey\": \"0x8aa3acb02d044341def59cc311975d6e26461ed5a10c38e89f11c6563675367c\",\n",
      "            \"pubkey\": \"03a4fc3cfca164732f07929942c6a99402c5a487a19975bb3861cea0fef12a30a4\",\n",
      "            \"pubkeyhash\": \"23b9d853c76531b77415d30dadc7832ffd806403\",\n",
      "            \"xprv\": \"xprvA3Wh9Wd6HH19iffGbddCxUh7m8ReLLPmaeT1HZxYjohFJgKjLNw6uzz8qC6wFBfBeLQDxfucaCppsHnoAWckdaVcDWeoi78mGX8obWArhUY\",\n",
      "            \"xpub\": \"xpub6GW3Z29z7eZSw9jjhfADKcdrKAG8jo7cwsNc5xNAJ9EEBUessvFMToJcgVH3qRthWFEGEj3ruoTfLMadRRq3nB1TfsoFzAVL28z2thjMpde\"\n",
      "        },\n",
      "        {\n",
      "            \"address\": \"0xFC88e5B6AC0ed626E79B69d7f213dE40c14AfD52\",\n",
      "            \"index\": 1,\n",
      "            \"path\": \"m/44'/60'/0'/0/1\",\n",
      "            \"privkey\": \"0xc240bdae731883f6fd3fd35d5132f9d78eb589fd08ded6a4fe0caa4ec60c8c3e\",\n",
      "            \"pubkey\": \"03b7f2525aab74bb15cb2111e435fbf0f53ac2738c9c12c7e4e240e15538407e86\",\n",
      "            \"pubkeyhash\": \"bc900cce948777155e303c0ae2f19bb8fd0e3ecd\",\n",
      "            \"xprv\": \"xprvA3Wh9Wd6HH19mtPoVt38nHQ7JbDCsLWbYU82t3LPwTyPG8AWUfaL8qARULoLRS9EwbDdWs6bF1fce4mPDSdqqgEr7pCvJ8JBo86MLpvm6j1\",\n",
      "            \"xpub\": \"xpub6GW3Z29z7eZSzNUGbua99RLqrd3hGoESuh3dgRk1VoWN8vVf2CtagdUuKdhJn9p36h9vhsQZCYUg3t3ndfUyUKTRDR3FGK4gcoHCxn3CHmj\"\n",
      "        },\n",
      "        {\n",
      "            \"address\": \"0x3DF8b5B4858145c5C971ebF768028A5556a875d6\",\n",
      "            \"index\": 2,\n",
      "            \"path\": \"m/44'/60'/0'/0/2\",\n",
      "            \"privkey\": \"0xc34b7dd2f9327b5b73fdb4ba0364f6aea685d44af0aca16e6289a22dffa9d47d\",\n",
      "            \"pubkey\": \"02833c4e59ed7137083674be4154946aea9e66d3919273a350bb8543aec2e04018\",\n",
      "            \"pubkeyhash\": \"91eed129a0ef800ce31112610b20ff0c4d1db758\",\n",
      "            \"xprv\": \"xprvA3Wh9Wd6HH19oHCBQYj8UEfQgXhMu2jmr1T4xad1yZug9FVV9nUk74TNDAGWYSwY1iyMR4Dvjvgv1DY9ZB2xrqth1jMcyCZ2uZ8nCW2Tybq\",\n",
      "            \"xpub\": \"xpub6GW3Z29z7eZT1mGeWaG8qNc9EZXrJVTdDENfky2dXuSf23pdhKnzermr4Qp4g9V6gAR9cvL1QRzMWw8CnF4wH8AiNZ7qavhWjvEQxeXW3Py\"\n",
      "        }\n",
      "    ]\n",
      "}\n"
     ]
    }
   ],
   "source": [
    "eth_PrivateKey = keys[\"eth\"][0]['privkey']\n",
    "btc_PrivateKey = keys['btc-test'][0]['privkey']\n",
    "\n",
    "print(json.dumps(eth_PrivateKey, indent=4, sort_keys=True))\n",
    "print(json.dumps(btc_PrivateKey, indent=4, sort_keys=True))\n",
    "print(json.dumps(keys, indent=4, sort_keys=True))"
   ]
  },
  {
   "cell_type": "code",
   "execution_count": 217,
   "metadata": {},
   "outputs": [],
   "source": [
    "# create a function that convert the privkey string in a child key to an account object.\n",
    "def priv_key_to_account(coin,priv_key):\n",
    "    print(coin)\n",
    "    print(priv_key)\n",
    "    if coin == ETH:\n",
    "        return Account.privateKeyToAccount(priv_key)\n",
    "    elif coin == BTCTEST:\n",
    "        return PrivateKeyTestnet(priv_key)"
   ]
  },
  {
   "cell_type": "code",
   "execution_count": 218,
   "metadata": {},
   "outputs": [],
   "source": [
    "def create_tx(coin,account, recipient, amount):\n",
    "    if coin == ETH: \n",
    "        val = w3.toWei(amount, \"ether\")\n",
    "        gasEstimate = w3.eth.estimateGas(\n",
    "            {\"from\":eth_acc.address, \"to\":recipient, \"value\": amount}\n",
    "        )\n",
    "        return { \n",
    "            \"to\": recipient,\n",
    "            \"from\": eth_acc.address,\n",
    "            \"value\": val,\n",
    "            \"gas\": gasEstimate,\n",
    "            \"gasPrice\": w3.eth.generateGasPrice,\n",
    "            \"nonce\": w3.eth.getTransactionCount(eth_acc.address),\n",
    "            \"chainId\": w3.eth.chainId\n",
    "        }\n",
    "    \n",
    "    elif coin == BTCTEST:\n",
    "        return PrivateKeyTestnet.prepare_transaction(account.address, [(recipient, amount, BTC)])\n",
    "    "
   ]
  },
  {
   "cell_type": "code",
   "execution_count": 219,
   "metadata": {},
   "outputs": [],
   "source": [
    "# def create_tx(coin,account, recipient, amount):\n",
    "#     if coin == ETH: \n",
    "#         gasEstimate = w3.eth.estimateGas(\n",
    "#             {\"from\":eth_acc.address, \"to\":recipient, \"value\": amount}\n",
    "#         )\n",
    "#         w3.toWei(amount, \"ether\")\n",
    "#         return { \n",
    "#             \"from\": eth_acc.address,\n",
    "#             \"to\": recipient,\n",
    "#             \"value\": amount,\n",
    "#             \"gasPrice\": w3.eth.gasPrice,\n",
    "#             \"gas\": gasEstimate,\n",
    "#             \"nonce\": w3.eth.getTransactionCount(eth_acc.address)\n",
    "#         }\n",
    "    \n",
    "#     elif coin == BTCTEST:\n",
    "#         return PrivateKeyTestnet.prepare_transaction(account.address, [(recipient, amount, BTC)])"
   ]
  },
  {
   "cell_type": "code",
   "execution_count": 220,
   "metadata": {},
   "outputs": [],
   "source": [
    "BTC = 'btc'\n",
    "ETH = 'eth'\n",
    "BTCTEST = 'btc-test'"
   ]
  },
  {
   "cell_type": "code",
   "execution_count": 221,
   "metadata": {},
   "outputs": [
    {
     "name": "stdout",
     "output_type": "stream",
     "text": [
      "eth\n",
      "0x8aa3acb02d044341def59cc311975d6e26461ed5a10c38e89f11c6563675367c\n"
     ]
    }
   ],
   "source": [
    "# create a function to hold Ethereum \n",
    "eth_acc = priv_key_to_account(ETH, derive_wallets(mnemonic, ETH,5)[0]['privkey'])"
   ]
  },
  {
   "cell_type": "code",
   "execution_count": 222,
   "metadata": {},
   "outputs": [],
   "source": [
    "# create a function to send txn\n",
    "def send_txn(coin,account,recipient, amount):\n",
    "    if coin == ETH:\n",
    "        txn = create_tx(coin, account, recipient, amount)\n",
    "        sgn = account.signTransaction(txn)\n",
    "        return w3.eth.sendRawTransaction(sgn.rawTransaction)\n",
    "       # signed_txn = eth_acc.sign_transaction(txn)\n",
    "#         result = w3.eth.sendRawTransaction(signed_txn.rawTransaction)\n",
    "#         print(result.hex())\n",
    "#         return result.hex()\n",
    "    elif coin == BTCTEST:\n",
    "        tx_btctest = create_tx(coin, account, recipient, amount)\n",
    "        signed_txn = account.sign_transaction(tx_btctest)\n",
    "        print(signed_txn)\n",
    "        return NetworkAPI.broadcast_tx_testnet(signed_txn)"
   ]
  },
  {
   "cell_type": "code",
   "execution_count": 230,
   "metadata": {},
   "outputs": [
    {
     "name": "stdout",
     "output_type": "stream",
     "text": [
      "btc-test\n",
      "cNJq398rNV8ewCj8je98DM5zgjQmB7QVmdA6VPvadYzayCiZkJJk\n"
     ]
    },
    {
     "ename": "ValueError",
     "evalue": "Transactions must have at least one unspent.",
     "output_type": "error",
     "traceback": [
      "\u001b[1;31m---------------------------------------------------------------------------\u001b[0m",
      "\u001b[1;31mValueError\u001b[0m                                Traceback (most recent call last)",
      "\u001b[1;32m<ipython-input-230-8203d4d7dcbf>\u001b[0m in \u001b[0;36m<module>\u001b[1;34m\u001b[0m\n\u001b[0;32m      6\u001b[0m \u001b[1;33m\u001b[0m\u001b[0m\n\u001b[0;32m      7\u001b[0m \u001b[1;31m# Send BTC transaction\u001b[0m\u001b[1;33m\u001b[0m\u001b[1;33m\u001b[0m\u001b[1;33m\u001b[0m\u001b[0m\n\u001b[1;32m----> 8\u001b[1;33m \u001b[0msend_txn\u001b[0m\u001b[1;33m(\u001b[0m\u001b[0mBTCTEST\u001b[0m\u001b[1;33m,\u001b[0m\u001b[0mbtc_acc\u001b[0m\u001b[1;33m,\u001b[0m\u001b[1;34m\"mtmShsoL73nUtNFqtzEew8iz1Jnf9jka9X\"\u001b[0m\u001b[1;33m,\u001b[0m \u001b[1;36m0.001\u001b[0m\u001b[1;33m)\u001b[0m\u001b[1;33m\u001b[0m\u001b[1;33m\u001b[0m\u001b[0m\n\u001b[0m",
      "\u001b[1;32m<ipython-input-222-8370eba7af96>\u001b[0m in \u001b[0;36msend_txn\u001b[1;34m(coin, account, recipient, amount)\u001b[0m\n\u001b[0;32m     10\u001b[0m \u001b[1;31m#         return result.hex()\u001b[0m\u001b[1;33m\u001b[0m\u001b[1;33m\u001b[0m\u001b[1;33m\u001b[0m\u001b[0m\n\u001b[0;32m     11\u001b[0m     \u001b[1;32melif\u001b[0m \u001b[0mcoin\u001b[0m \u001b[1;33m==\u001b[0m \u001b[0mBTCTEST\u001b[0m\u001b[1;33m:\u001b[0m\u001b[1;33m\u001b[0m\u001b[1;33m\u001b[0m\u001b[0m\n\u001b[1;32m---> 12\u001b[1;33m         \u001b[0mtx_btctest\u001b[0m \u001b[1;33m=\u001b[0m \u001b[0mcreate_tx\u001b[0m\u001b[1;33m(\u001b[0m\u001b[0mcoin\u001b[0m\u001b[1;33m,\u001b[0m \u001b[0maccount\u001b[0m\u001b[1;33m,\u001b[0m \u001b[0mrecipient\u001b[0m\u001b[1;33m,\u001b[0m \u001b[0mamount\u001b[0m\u001b[1;33m)\u001b[0m\u001b[1;33m\u001b[0m\u001b[1;33m\u001b[0m\u001b[0m\n\u001b[0m\u001b[0;32m     13\u001b[0m         \u001b[0msigned_txn\u001b[0m \u001b[1;33m=\u001b[0m \u001b[0maccount\u001b[0m\u001b[1;33m.\u001b[0m\u001b[0msign_transaction\u001b[0m\u001b[1;33m(\u001b[0m\u001b[0mtx_btctest\u001b[0m\u001b[1;33m)\u001b[0m\u001b[1;33m\u001b[0m\u001b[1;33m\u001b[0m\u001b[0m\n\u001b[0;32m     14\u001b[0m         \u001b[0mprint\u001b[0m\u001b[1;33m(\u001b[0m\u001b[0msigned_txn\u001b[0m\u001b[1;33m)\u001b[0m\u001b[1;33m\u001b[0m\u001b[1;33m\u001b[0m\u001b[0m\n",
      "\u001b[1;32m<ipython-input-218-4bfbd30f128d>\u001b[0m in \u001b[0;36mcreate_tx\u001b[1;34m(coin, account, recipient, amount)\u001b[0m\n\u001b[0;32m     16\u001b[0m \u001b[1;33m\u001b[0m\u001b[0m\n\u001b[0;32m     17\u001b[0m     \u001b[1;32melif\u001b[0m \u001b[0mcoin\u001b[0m \u001b[1;33m==\u001b[0m \u001b[0mBTCTEST\u001b[0m\u001b[1;33m:\u001b[0m\u001b[1;33m\u001b[0m\u001b[1;33m\u001b[0m\u001b[0m\n\u001b[1;32m---> 18\u001b[1;33m         \u001b[1;32mreturn\u001b[0m \u001b[0mPrivateKeyTestnet\u001b[0m\u001b[1;33m.\u001b[0m\u001b[0mprepare_transaction\u001b[0m\u001b[1;33m(\u001b[0m\u001b[0maccount\u001b[0m\u001b[1;33m.\u001b[0m\u001b[0maddress\u001b[0m\u001b[1;33m,\u001b[0m \u001b[1;33m[\u001b[0m\u001b[1;33m(\u001b[0m\u001b[0mrecipient\u001b[0m\u001b[1;33m,\u001b[0m \u001b[0mamount\u001b[0m\u001b[1;33m,\u001b[0m \u001b[0mBTC\u001b[0m\u001b[1;33m)\u001b[0m\u001b[1;33m]\u001b[0m\u001b[1;33m)\u001b[0m\u001b[1;33m\u001b[0m\u001b[1;33m\u001b[0m\u001b[0m\n\u001b[0m\u001b[0;32m     19\u001b[0m \u001b[1;33m\u001b[0m\u001b[0m\n",
      "\u001b[1;32m~\\anaconda3\\envs\\ethereum\\lib\\site-packages\\bit\\wallet.py\u001b[0m in \u001b[0;36mprepare_transaction\u001b[1;34m(cls, address, outputs, compressed, fee, absolute_fee, leftover, combine, message, unspents, message_is_hex, replace_by_fee)\u001b[0m\n\u001b[0;32m    850\u001b[0m             \u001b[0mversion\u001b[0m\u001b[1;33m=\u001b[0m\u001b[1;34m'test'\u001b[0m\u001b[1;33m,\u001b[0m\u001b[1;33m\u001b[0m\u001b[1;33m\u001b[0m\u001b[0m\n\u001b[0;32m    851\u001b[0m             \u001b[0mmessage_is_hex\u001b[0m\u001b[1;33m=\u001b[0m\u001b[0mmessage_is_hex\u001b[0m\u001b[1;33m,\u001b[0m\u001b[1;33m\u001b[0m\u001b[1;33m\u001b[0m\u001b[0m\n\u001b[1;32m--> 852\u001b[1;33m             \u001b[0mreplace_by_fee\u001b[0m\u001b[1;33m=\u001b[0m\u001b[0mreplace_by_fee\u001b[0m\u001b[1;33m\u001b[0m\u001b[1;33m\u001b[0m\u001b[0m\n\u001b[0m\u001b[0;32m    853\u001b[0m         )\n\u001b[0;32m    854\u001b[0m \u001b[1;33m\u001b[0m\u001b[0m\n",
      "\u001b[1;32m~\\anaconda3\\envs\\ethereum\\lib\\site-packages\\bit\\transaction.py\u001b[0m in \u001b[0;36msanitize_tx_data\u001b[1;34m(unspents, outputs, fee, leftover, combine, message, compressed, absolute_fee, min_change, version, message_is_hex, replace_by_fee)\u001b[0m\n\u001b[0;32m    403\u001b[0m \u001b[1;33m\u001b[0m\u001b[0m\n\u001b[0;32m    404\u001b[0m     \u001b[1;32mif\u001b[0m \u001b[1;32mnot\u001b[0m \u001b[0munspents\u001b[0m\u001b[1;33m:\u001b[0m\u001b[1;33m\u001b[0m\u001b[1;33m\u001b[0m\u001b[0m\n\u001b[1;32m--> 405\u001b[1;33m         \u001b[1;32mraise\u001b[0m \u001b[0mValueError\u001b[0m\u001b[1;33m(\u001b[0m\u001b[1;34m'Transactions must have at least one unspent.'\u001b[0m\u001b[1;33m)\u001b[0m\u001b[1;33m\u001b[0m\u001b[1;33m\u001b[0m\u001b[0m\n\u001b[0m\u001b[0;32m    406\u001b[0m \u001b[1;33m\u001b[0m\u001b[0m\n\u001b[0;32m    407\u001b[0m     \u001b[1;31m# Temporary storage so all outputs precede messages.\u001b[0m\u001b[1;33m\u001b[0m\u001b[1;33m\u001b[0m\u001b[1;33m\u001b[0m\u001b[0m\n",
      "\u001b[1;31mValueError\u001b[0m: Transactions must have at least one unspent."
     ]
    }
   ],
   "source": [
    "#BTC-TEST Transactions\n",
    "btc_acc = priv_key_to_account(BTCTEST,btc_PrivateKey)\n",
    "\n",
    "# create BTC transaction\n",
    "# create_tx(BTCTEST,btc_acc,\"n3D8vVvLyD7pPQmWoQgMMERZrDjmBheBpU\", 0.1)\n",
    "\n",
    "# Send BTC transaction\n",
    "send_txn(BTCTEST,btc_acc,\"mtmShsoL73nUtNFqtzEew8iz1Jnf9jka9X\", 0.001)"
   ]
  },
  {
   "cell_type": "code",
   "execution_count": 229,
   "metadata": {},
   "outputs": [
    {
     "ename": "TypeError",
     "evalue": "Transaction had invalid fields: {'gasPrice': <bound method Eth.generateGasPrice of <web3.eth.Eth object at 0x00000140B012CA08>>}",
     "output_type": "error",
     "traceback": [
      "\u001b[1;31m---------------------------------------------------------------------------\u001b[0m",
      "\u001b[1;31mTypeError\u001b[0m                                 Traceback (most recent call last)",
      "\u001b[1;32m<ipython-input-229-bc8e8ca90905>\u001b[0m in \u001b[0;36m<module>\u001b[1;34m\u001b[0m\n\u001b[0;32m      2\u001b[0m \u001b[1;31m#create_tx(ETH,eth_acc,\"n3D8vVvLyD7pPQmWoQgMMERZrDjmBheBpU\", 0.1)\u001b[0m\u001b[1;33m\u001b[0m\u001b[1;33m\u001b[0m\u001b[1;33m\u001b[0m\u001b[0m\n\u001b[0;32m      3\u001b[0m \u001b[1;33m\u001b[0m\u001b[0m\n\u001b[1;32m----> 4\u001b[1;33m \u001b[0msend_txn\u001b[0m\u001b[1;33m(\u001b[0m\u001b[0mETH\u001b[0m\u001b[1;33m,\u001b[0m\u001b[0meth_acc\u001b[0m\u001b[1;33m,\u001b[0m\u001b[1;34m\"0xFC88e5B6AC0ed626E79B69d7f213dE40c14AfD52\"\u001b[0m\u001b[1;33m,\u001b[0m \u001b[1;36m1\u001b[0m\u001b[1;33m)\u001b[0m\u001b[1;33m\u001b[0m\u001b[1;33m\u001b[0m\u001b[0m\n\u001b[0m\u001b[0;32m      5\u001b[0m \u001b[1;33m\u001b[0m\u001b[0m\n\u001b[0;32m      6\u001b[0m \u001b[1;31m#connecting to HTTP with address pk\u001b[0m\u001b[1;33m\u001b[0m\u001b[1;33m\u001b[0m\u001b[1;33m\u001b[0m\u001b[0m\n",
      "\u001b[1;32m<ipython-input-222-8370eba7af96>\u001b[0m in \u001b[0;36msend_txn\u001b[1;34m(coin, account, recipient, amount)\u001b[0m\n\u001b[0;32m      3\u001b[0m     \u001b[1;32mif\u001b[0m \u001b[0mcoin\u001b[0m \u001b[1;33m==\u001b[0m \u001b[0mETH\u001b[0m\u001b[1;33m:\u001b[0m\u001b[1;33m\u001b[0m\u001b[1;33m\u001b[0m\u001b[0m\n\u001b[0;32m      4\u001b[0m         \u001b[0mtxn\u001b[0m \u001b[1;33m=\u001b[0m \u001b[0mcreate_tx\u001b[0m\u001b[1;33m(\u001b[0m\u001b[0mcoin\u001b[0m\u001b[1;33m,\u001b[0m \u001b[0maccount\u001b[0m\u001b[1;33m,\u001b[0m \u001b[0mrecipient\u001b[0m\u001b[1;33m,\u001b[0m \u001b[0mamount\u001b[0m\u001b[1;33m)\u001b[0m\u001b[1;33m\u001b[0m\u001b[1;33m\u001b[0m\u001b[0m\n\u001b[1;32m----> 5\u001b[1;33m         \u001b[0msgn\u001b[0m \u001b[1;33m=\u001b[0m \u001b[0maccount\u001b[0m\u001b[1;33m.\u001b[0m\u001b[0msignTransaction\u001b[0m\u001b[1;33m(\u001b[0m\u001b[0mtxn\u001b[0m\u001b[1;33m)\u001b[0m\u001b[1;33m\u001b[0m\u001b[1;33m\u001b[0m\u001b[0m\n\u001b[0m\u001b[0;32m      6\u001b[0m         \u001b[1;32mreturn\u001b[0m \u001b[0mw3\u001b[0m\u001b[1;33m.\u001b[0m\u001b[0meth\u001b[0m\u001b[1;33m.\u001b[0m\u001b[0msendRawTransaction\u001b[0m\u001b[1;33m(\u001b[0m\u001b[0msgn\u001b[0m\u001b[1;33m.\u001b[0m\u001b[0mrawTransaction\u001b[0m\u001b[1;33m)\u001b[0m\u001b[1;33m\u001b[0m\u001b[1;33m\u001b[0m\u001b[0m\n\u001b[0;32m      7\u001b[0m        \u001b[1;31m# signed_txn = eth_acc.sign_transaction(txn)\u001b[0m\u001b[1;33m\u001b[0m\u001b[1;33m\u001b[0m\u001b[1;33m\u001b[0m\u001b[0m\n",
      "\u001b[1;32m~\\anaconda3\\envs\\ethereum\\lib\\site-packages\\eth_account\\signers\\local.py\u001b[0m in \u001b[0;36msignTransaction\u001b[1;34m(self, transaction_dict)\u001b[0m\n\u001b[0;32m     88\u001b[0m             \u001b[0mcategory\u001b[0m\u001b[1;33m=\u001b[0m\u001b[0mDeprecationWarning\u001b[0m\u001b[1;33m,\u001b[0m\u001b[1;33m\u001b[0m\u001b[1;33m\u001b[0m\u001b[0m\n\u001b[0;32m     89\u001b[0m         )\n\u001b[1;32m---> 90\u001b[1;33m         \u001b[1;32mreturn\u001b[0m \u001b[0mself\u001b[0m\u001b[1;33m.\u001b[0m\u001b[0msign_transaction\u001b[0m\u001b[1;33m(\u001b[0m\u001b[0mtransaction_dict\u001b[0m\u001b[1;33m)\u001b[0m\u001b[1;33m\u001b[0m\u001b[1;33m\u001b[0m\u001b[0m\n\u001b[0m\u001b[0;32m     91\u001b[0m \u001b[1;33m\u001b[0m\u001b[0m\n\u001b[0;32m     92\u001b[0m     \u001b[1;32mdef\u001b[0m \u001b[0msign_transaction\u001b[0m\u001b[1;33m(\u001b[0m\u001b[0mself\u001b[0m\u001b[1;33m,\u001b[0m \u001b[0mtransaction_dict\u001b[0m\u001b[1;33m)\u001b[0m\u001b[1;33m:\u001b[0m\u001b[1;33m\u001b[0m\u001b[1;33m\u001b[0m\u001b[0m\n",
      "\u001b[1;32m~\\anaconda3\\envs\\ethereum\\lib\\site-packages\\eth_account\\signers\\local.py\u001b[0m in \u001b[0;36msign_transaction\u001b[1;34m(self, transaction_dict)\u001b[0m\n\u001b[0;32m     91\u001b[0m \u001b[1;33m\u001b[0m\u001b[0m\n\u001b[0;32m     92\u001b[0m     \u001b[1;32mdef\u001b[0m \u001b[0msign_transaction\u001b[0m\u001b[1;33m(\u001b[0m\u001b[0mself\u001b[0m\u001b[1;33m,\u001b[0m \u001b[0mtransaction_dict\u001b[0m\u001b[1;33m)\u001b[0m\u001b[1;33m:\u001b[0m\u001b[1;33m\u001b[0m\u001b[1;33m\u001b[0m\u001b[0m\n\u001b[1;32m---> 93\u001b[1;33m         \u001b[1;32mreturn\u001b[0m \u001b[0mself\u001b[0m\u001b[1;33m.\u001b[0m\u001b[0m_publicapi\u001b[0m\u001b[1;33m.\u001b[0m\u001b[0msign_transaction\u001b[0m\u001b[1;33m(\u001b[0m\u001b[0mtransaction_dict\u001b[0m\u001b[1;33m,\u001b[0m \u001b[0mself\u001b[0m\u001b[1;33m.\u001b[0m\u001b[0mkey\u001b[0m\u001b[1;33m)\u001b[0m\u001b[1;33m\u001b[0m\u001b[1;33m\u001b[0m\u001b[0m\n\u001b[0m\u001b[0;32m     94\u001b[0m \u001b[1;33m\u001b[0m\u001b[0m\n\u001b[0;32m     95\u001b[0m     \u001b[1;32mdef\u001b[0m \u001b[0m__bytes__\u001b[0m\u001b[1;33m(\u001b[0m\u001b[0mself\u001b[0m\u001b[1;33m)\u001b[0m\u001b[1;33m:\u001b[0m\u001b[1;33m\u001b[0m\u001b[1;33m\u001b[0m\u001b[0m\n",
      "\u001b[1;32m~\\anaconda3\\envs\\ethereum\\lib\\site-packages\\eth_utils\\decorators.py\u001b[0m in \u001b[0;36m_wrapper\u001b[1;34m(*args, **kwargs)\u001b[0m\n\u001b[0;32m     18\u001b[0m                 \u001b[1;32mreturn\u001b[0m \u001b[0mself\u001b[0m\u001b[1;33m.\u001b[0m\u001b[0mmethod\u001b[0m\u001b[1;33m(\u001b[0m\u001b[0mobj\u001b[0m\u001b[1;33m,\u001b[0m \u001b[1;33m*\u001b[0m\u001b[0margs\u001b[0m\u001b[1;33m,\u001b[0m \u001b[1;33m**\u001b[0m\u001b[0mkwargs\u001b[0m\u001b[1;33m)\u001b[0m\u001b[1;33m\u001b[0m\u001b[1;33m\u001b[0m\u001b[0m\n\u001b[0;32m     19\u001b[0m             \u001b[1;32melse\u001b[0m\u001b[1;33m:\u001b[0m\u001b[1;33m\u001b[0m\u001b[1;33m\u001b[0m\u001b[0m\n\u001b[1;32m---> 20\u001b[1;33m                 \u001b[1;32mreturn\u001b[0m \u001b[0mself\u001b[0m\u001b[1;33m.\u001b[0m\u001b[0mmethod\u001b[0m\u001b[1;33m(\u001b[0m\u001b[0mobjtype\u001b[0m\u001b[1;33m,\u001b[0m \u001b[1;33m*\u001b[0m\u001b[0margs\u001b[0m\u001b[1;33m,\u001b[0m \u001b[1;33m**\u001b[0m\u001b[0mkwargs\u001b[0m\u001b[1;33m)\u001b[0m\u001b[1;33m\u001b[0m\u001b[1;33m\u001b[0m\u001b[0m\n\u001b[0m\u001b[0;32m     21\u001b[0m \u001b[1;33m\u001b[0m\u001b[0m\n\u001b[0;32m     22\u001b[0m         \u001b[1;32mreturn\u001b[0m \u001b[0m_wrapper\u001b[0m\u001b[1;33m\u001b[0m\u001b[1;33m\u001b[0m\u001b[0m\n",
      "\u001b[1;32m~\\anaconda3\\envs\\ethereum\\lib\\site-packages\\eth_account\\account.py\u001b[0m in \u001b[0;36msign_transaction\u001b[1;34m(self, transaction_dict, private_key)\u001b[0m\n\u001b[0;32m    665\u001b[0m             \u001b[0ms\u001b[0m\u001b[1;33m,\u001b[0m\u001b[1;33m\u001b[0m\u001b[1;33m\u001b[0m\u001b[0m\n\u001b[0;32m    666\u001b[0m             \u001b[0mrlp_encoded\u001b[0m\u001b[1;33m,\u001b[0m\u001b[1;33m\u001b[0m\u001b[1;33m\u001b[0m\u001b[0m\n\u001b[1;32m--> 667\u001b[1;33m         ) = sign_transaction_dict(account._key_obj, sanitized_transaction)\n\u001b[0m\u001b[0;32m    668\u001b[0m \u001b[1;33m\u001b[0m\u001b[0m\n\u001b[0;32m    669\u001b[0m         \u001b[0mtransaction_hash\u001b[0m \u001b[1;33m=\u001b[0m \u001b[0mkeccak\u001b[0m\u001b[1;33m(\u001b[0m\u001b[0mrlp_encoded\u001b[0m\u001b[1;33m)\u001b[0m\u001b[1;33m\u001b[0m\u001b[1;33m\u001b[0m\u001b[0m\n",
      "\u001b[1;32m~\\anaconda3\\envs\\ethereum\\lib\\site-packages\\eth_account\\_utils\\signing.py\u001b[0m in \u001b[0;36msign_transaction_dict\u001b[1;34m(eth_key, transaction_dict)\u001b[0m\n\u001b[0;32m     26\u001b[0m \u001b[1;32mdef\u001b[0m \u001b[0msign_transaction_dict\u001b[0m\u001b[1;33m(\u001b[0m\u001b[0meth_key\u001b[0m\u001b[1;33m,\u001b[0m \u001b[0mtransaction_dict\u001b[0m\u001b[1;33m)\u001b[0m\u001b[1;33m:\u001b[0m\u001b[1;33m\u001b[0m\u001b[1;33m\u001b[0m\u001b[0m\n\u001b[0;32m     27\u001b[0m     \u001b[1;31m# generate RLP-serializable transaction, with defaults filled\u001b[0m\u001b[1;33m\u001b[0m\u001b[1;33m\u001b[0m\u001b[1;33m\u001b[0m\u001b[0m\n\u001b[1;32m---> 28\u001b[1;33m     \u001b[0munsigned_transaction\u001b[0m \u001b[1;33m=\u001b[0m \u001b[0mserializable_unsigned_transaction_from_dict\u001b[0m\u001b[1;33m(\u001b[0m\u001b[0mtransaction_dict\u001b[0m\u001b[1;33m)\u001b[0m\u001b[1;33m\u001b[0m\u001b[1;33m\u001b[0m\u001b[0m\n\u001b[0m\u001b[0;32m     29\u001b[0m \u001b[1;33m\u001b[0m\u001b[0m\n\u001b[0;32m     30\u001b[0m     \u001b[0mtransaction_hash\u001b[0m \u001b[1;33m=\u001b[0m \u001b[0munsigned_transaction\u001b[0m\u001b[1;33m.\u001b[0m\u001b[0mhash\u001b[0m\u001b[1;33m(\u001b[0m\u001b[1;33m)\u001b[0m\u001b[1;33m\u001b[0m\u001b[1;33m\u001b[0m\u001b[0m\n",
      "\u001b[1;32m~\\anaconda3\\envs\\ethereum\\lib\\site-packages\\eth_account\\_utils\\transactions.py\u001b[0m in \u001b[0;36mserializable_unsigned_transaction_from_dict\u001b[1;34m(transaction_dict)\u001b[0m\n\u001b[0;32m     41\u001b[0m \u001b[1;33m\u001b[0m\u001b[0m\n\u001b[0;32m     42\u001b[0m \u001b[1;32mdef\u001b[0m \u001b[0mserializable_unsigned_transaction_from_dict\u001b[0m\u001b[1;33m(\u001b[0m\u001b[0mtransaction_dict\u001b[0m\u001b[1;33m)\u001b[0m\u001b[1;33m:\u001b[0m\u001b[1;33m\u001b[0m\u001b[1;33m\u001b[0m\u001b[0m\n\u001b[1;32m---> 43\u001b[1;33m     \u001b[0massert_valid_fields\u001b[0m\u001b[1;33m(\u001b[0m\u001b[0mtransaction_dict\u001b[0m\u001b[1;33m)\u001b[0m\u001b[1;33m\u001b[0m\u001b[1;33m\u001b[0m\u001b[0m\n\u001b[0m\u001b[0;32m     44\u001b[0m     filled_transaction = pipe(\n\u001b[0;32m     45\u001b[0m         \u001b[0mtransaction_dict\u001b[0m\u001b[1;33m,\u001b[0m\u001b[1;33m\u001b[0m\u001b[1;33m\u001b[0m\u001b[0m\n",
      "\u001b[1;32m~\\anaconda3\\envs\\ethereum\\lib\\site-packages\\eth_account\\_utils\\transactions.py\u001b[0m in \u001b[0;36massert_valid_fields\u001b[1;34m(transaction_dict)\u001b[0m\n\u001b[0;32m    145\u001b[0m     \u001b[1;32mif\u001b[0m \u001b[1;32mnot\u001b[0m \u001b[0mall\u001b[0m\u001b[1;33m(\u001b[0m\u001b[0mvalid_fields\u001b[0m\u001b[1;33m.\u001b[0m\u001b[0mvalues\u001b[0m\u001b[1;33m(\u001b[0m\u001b[1;33m)\u001b[0m\u001b[1;33m)\u001b[0m\u001b[1;33m:\u001b[0m\u001b[1;33m\u001b[0m\u001b[1;33m\u001b[0m\u001b[0m\n\u001b[0;32m    146\u001b[0m         \u001b[0minvalid\u001b[0m \u001b[1;33m=\u001b[0m \u001b[1;33m{\u001b[0m\u001b[0mkey\u001b[0m\u001b[1;33m:\u001b[0m \u001b[0mtransaction_dict\u001b[0m\u001b[1;33m[\u001b[0m\u001b[0mkey\u001b[0m\u001b[1;33m]\u001b[0m \u001b[1;32mfor\u001b[0m \u001b[0mkey\u001b[0m\u001b[1;33m,\u001b[0m \u001b[0mvalid\u001b[0m \u001b[1;32min\u001b[0m \u001b[0mvalid_fields\u001b[0m\u001b[1;33m.\u001b[0m\u001b[0mitems\u001b[0m\u001b[1;33m(\u001b[0m\u001b[1;33m)\u001b[0m \u001b[1;32mif\u001b[0m \u001b[1;32mnot\u001b[0m \u001b[0mvalid\u001b[0m\u001b[1;33m}\u001b[0m\u001b[1;33m\u001b[0m\u001b[1;33m\u001b[0m\u001b[0m\n\u001b[1;32m--> 147\u001b[1;33m         \u001b[1;32mraise\u001b[0m \u001b[0mTypeError\u001b[0m\u001b[1;33m(\u001b[0m\u001b[1;34m\"Transaction had invalid fields: %r\"\u001b[0m \u001b[1;33m%\u001b[0m \u001b[0minvalid\u001b[0m\u001b[1;33m)\u001b[0m\u001b[1;33m\u001b[0m\u001b[1;33m\u001b[0m\u001b[0m\n\u001b[0m\u001b[0;32m    148\u001b[0m \u001b[1;33m\u001b[0m\u001b[0m\n\u001b[0;32m    149\u001b[0m \u001b[1;33m\u001b[0m\u001b[0m\n",
      "\u001b[1;31mTypeError\u001b[0m: Transaction had invalid fields: {'gasPrice': <bound method Eth.generateGasPrice of <web3.eth.Eth object at 0x00000140B012CA08>>}"
     ]
    }
   ],
   "source": [
    "# ETH Transactions\n",
    "#create_tx(ETH,eth_acc,\"n3D8vVvLyD7pPQmWoQgMMERZrDjmBheBpU\", 0.1)\n",
    "\n",
    "send_txn(ETH,eth_acc,\"0xFC88e5B6AC0ed626E79B69d7f213dE40c14AfD52\", 1)\n",
    "\n",
    "#connecting to HTTP with address pk\n",
    "w3 = Web3(Web3.HTTPProvider(\"http://127.0.0.1:8545/0x30c2577db89760baa9ba4058b1033b9e103f287e5de1689e35833ee8e7a7c857\"))"
   ]
  },
  {
   "cell_type": "code",
   "execution_count": null,
   "metadata": {},
   "outputs": [],
   "source": [
    "# double check if  I am connected to blockchain. \n",
    "w3.isConnected()"
   ]
  },
  {
   "cell_type": "code",
   "execution_count": null,
   "metadata": {},
   "outputs": [],
   "source": [
    "# ## Check the Balance of the account with local mining blockchain\n",
    "\n",
    "\n",
    "w3.eth.getBalance(\"0x46BbdBf56ff911A93AdaF0164d0709F78B52765E\")\n",
    "\n",
    "\n",
    "create_tx(ETH,eth_acc,\"0x3dA0F09EF6F833b179768a63AdD29061e0702e47\", 1000)\n",
    "\n",
    "\n",
    "send_txn(ETH, eth_acc,\"0x3dA0F09EF6F833b179768a63AdD29061e0702e47\", 1000)\n",
    "\n",
    "\n",
    "# ## Confirmation of \n",
    "\n",
    "\n",
    "w3.eth.getBalance(\"0x3dA0F09EF6F833b179768a63AdD29061e0702e47\")"
   ]
  }
 ],
 "metadata": {
  "kernelspec": {
   "display_name": "Python 3",
   "language": "python",
   "name": "python3"
  },
  "language_info": {
   "codemirror_mode": {
    "name": "ipython",
    "version": 3
   },
   "file_extension": ".py",
   "mimetype": "text/x-python",
   "name": "python",
   "nbconvert_exporter": "python",
   "pygments_lexer": "ipython3",
   "version": "3.7.9"
  }
 },
 "nbformat": 4,
 "nbformat_minor": 4
}
