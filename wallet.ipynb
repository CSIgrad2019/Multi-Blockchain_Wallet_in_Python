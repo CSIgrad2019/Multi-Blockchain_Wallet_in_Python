{
 "cells": [
  {
   "cell_type": "code",
   "execution_count": 290,
   "metadata": {},
   "outputs": [],
   "source": [
    "# import libraries\n",
    "import subprocess\n",
    "import json\n",
    "import os\n",
    "from constants import *\n",
    "from dotenv import load_dotenv\n",
    "from bipwallet import wallet\n",
    "from pathlib import Path\n",
    "from getpass import getpass\n",
    "from web3 import Web3\n",
    "from eth_account import Account\n",
    "from bit import PrivateKeyTestnet\n",
    "from bit.network import NetworkAPI\n",
    "from web3.middleware import geth_poa_middleware\n",
    "from web3.gas_strategies.time_based import medium_gas_price_strategy"
   ]
  },
  {
   "cell_type": "code",
   "execution_count": 291,
   "metadata": {},
   "outputs": [
    {
     "data": {
      "text/plain": [
       "True"
      ]
     },
     "execution_count": 291,
     "metadata": {},
     "output_type": "execute_result"
    }
   ],
   "source": [
    "load_dotenv()"
   ]
  },
  {
   "cell_type": "code",
   "execution_count": 292,
   "metadata": {},
   "outputs": [
    {
     "name": "stdout",
     "output_type": "stream",
     "text": [
      "0\n",
      "purse snap horn forum riot treat soap miracle interest observe appear dignity\n"
     ]
    }
   ],
   "source": [
    "# import mnemonic from env\n",
    "filepath=\"env\"\n",
    "p = subprocess.Popen(filepath, shell=True, stdout = subprocess.PIPE)\n",
    "\n",
    "stdout, stderr = p.communicate()\n",
    "print (p.returncode) # is 0 if success\n",
    "mnemonic = os.getenv('Mnemonic_cnv')\n",
    "print(mnemonic)"
   ]
  },
  {
   "cell_type": "code",
   "execution_count": 293,
   "metadata": {},
   "outputs": [],
   "source": [
    "# connect to local ETH/ geth\n",
    "w3 = Web3(Web3.HTTPProvider('http://127.0.0.1:8545'))\n",
    "w3.middleware_onion.inject(geth_poa_middleware, layer=0)\n",
    "w3.eth.setGasPriceStrategy(medium_gas_price_strategy)\n",
    "#priv_key = Account.from_key(private_key)"
   ]
  },
  {
   "cell_type": "code",
   "execution_count": 294,
   "metadata": {},
   "outputs": [],
   "source": [
    "# Define function to derive wallet\n",
    "def derive_wallets(mnemonic, coin, numderive):\n",
    "    \"\"\"Use the subprocess library to call the php file script from Python\"\"\"\n",
    "    command = f'php ./hd-wallet-derive/hd-wallet-derive.php -g --mnemonic=\"{mnemonic}\" --numderive=\"{numderive}\" --coin=\"{coin}\" --format=json' \n",
    "    \n",
    "    p = subprocess.Popen(command, stdout=subprocess.PIPE, shell=True)\n",
    "    (output, err) = p.communicate()\n",
    "   \n",
    "    keys = json.loads(output)\n",
    "    return  keys"
   ]
  },
  {
   "cell_type": "code",
   "execution_count": 295,
   "metadata": {},
   "outputs": [
    {
     "data": {
      "text/plain": [
       "[{'path': \"m/44'/0'/0'/0/0\",\n",
       "  'address': '1LDB2cLEcxkXRJKDezm8yN1YXb789owvJr',\n",
       "  'xprv': 'xprvA34Kssa7HL5EGQBaxZCpxoqnJvPoQGh7RfVpBPq2sckEq1E6fgEu945yr8XX3DKqLpakCQUb1eaBYZe7bkMmj4PMnvVa7nbTRnnwzioLfRM',\n",
       "  'xpub': 'xpub6G3gHP717hdXUtG44ajqKwnWrxEHojQxntRQynEeRxHDhoZFDDZ9grQThQguwJM2gBbvBTDed2PxLaHtNAa9Ldg6RVWUtiTQtkgG5js5mUK',\n",
       "  'privkey': 'L4CS15MZcXCg33DBTD7qVC6XG3WStUGgogw6M6d8FrDg8KvbfFPw',\n",
       "  'pubkey': '036538b1af104b5140fc1fa54fa7612aba045dc6cf86b53a9360b425fdf1808736',\n",
       "  'pubkeyhash': 'd2b7c08e620fa78ab00391a38711116333a01c53',\n",
       "  'index': 0},\n",
       " {'path': \"m/44'/0'/0'/0/1\",\n",
       "  'address': '1NfRmKvJsBXvUtLNfihiqqxnpAdRFoGtPE',\n",
       "  'xprv': 'xprvA34Kssa7HL5EHPfQq6TUgx8r8u1WgQmHWpRBV3KXz7XL7br9LnBbz9JhRbnWaSXDKh7MjUSaZKxD52ZqSKFZfiGtFpu5uC2JDVLZCjAsimP',\n",
       "  'xpub': 'xpub6G3gHP717hdXVsjsw7zV465agvr15sV8t3LnHRj9YT4JzQBHtKVrXwdBGsKx8kESybtXtdMkCnt55veBvguoY8Cyn7Gk71LTMMbXjWFu7Ne',\n",
       "  'privkey': 'L3ApBr1n3x3TkSdmmaWvRAGnQqFdBP5GDH7SF7q6j7sibXj8oU3U',\n",
       "  'pubkey': '02f4e9e57793db775ea37064045afdf123446eca4c93296f393e039e52ea96f8a2',\n",
       "  'pubkeyhash': 'ed9f1ec2a8574108551fffefd1858cea73fdbdc5',\n",
       "  'index': 1},\n",
       " {'path': \"m/44'/0'/0'/0/2\",\n",
       "  'address': '1ok4pJnW6Be8ixWMcbq9M7VQCFPZf83Em',\n",
       "  'xprv': 'xprvA34Kssa7HL5ELfK9iYPQgKbX91VdRRwpT3VjLTWj5V9uyu7kg5de9GPa2Dp8h3xRq1birCfEMkX5zzq3vvFkruyjykMxPFVpNHGAYD1Wojo',\n",
       "  'xpub': 'xpub6G3gHP717hdXZ9PcpZvR3TYFh3L7ptffpGRL8qvLdpgtrhSuDcwth4i3sUUzJ98KXFSKAkniN3WrLcenmJeEsxWukD5342ZpZjaVqRd2B5N',\n",
       "  'privkey': 'L17832tZARJquLr4yYWjDqrz7KhYdgAofrD1V1w2fgppHHn64yWz',\n",
       "  'pubkey': '02447aa805b1fdbc8e953917873f2c228b751736aecb51d3dfe9df6bd7824b54ed',\n",
       "  'pubkeyhash': '08d71570af4575086b73b5b546ae31583d0a3d9e',\n",
       "  'index': 2}]"
      ]
     },
     "execution_count": 295,
     "metadata": {},
     "output_type": "execute_result"
    }
   ],
   "source": [
    "# Test the function derive_wallets\n",
    "derive_wallets(mnemonic, 'BTC', 3)"
   ]
  },
  {
   "cell_type": "code",
   "execution_count": 296,
   "metadata": {},
   "outputs": [],
   "source": [
    "#Setting dictionary of coins to be used in the wallet\n",
    "coins = {\"eth\", \"btc-test\", \"btc\"}\n",
    "numderive = 3"
   ]
  },
  {
   "cell_type": "code",
   "execution_count": 297,
   "metadata": {},
   "outputs": [],
   "source": [
    "keys = {}\n",
    "for coin in coins:\n",
    "    keys[coin]= derive_wallets(mnemonic, coin, numderive=3)"
   ]
  },
  {
   "cell_type": "code",
   "execution_count": 298,
   "metadata": {},
   "outputs": [
    {
     "name": "stdout",
     "output_type": "stream",
     "text": [
      "\"0x8e7d5bbdf0b0aaf94d51c9396df935bfbe4fddae1800056298ad6a4c76e8b80a\"\n",
      "\"cSu99Wb9EUpDFLZ7xFkicMZCVGBgRmHkiR6zoZCuKCwWMVBnnZNR\"\n",
      "{\n",
      "    \"btc\": [\n",
      "        {\n",
      "            \"address\": \"1LDB2cLEcxkXRJKDezm8yN1YXb789owvJr\",\n",
      "            \"index\": 0,\n",
      "            \"path\": \"m/44'/0'/0'/0/0\",\n",
      "            \"privkey\": \"L4CS15MZcXCg33DBTD7qVC6XG3WStUGgogw6M6d8FrDg8KvbfFPw\",\n",
      "            \"pubkey\": \"036538b1af104b5140fc1fa54fa7612aba045dc6cf86b53a9360b425fdf1808736\",\n",
      "            \"pubkeyhash\": \"d2b7c08e620fa78ab00391a38711116333a01c53\",\n",
      "            \"xprv\": \"xprvA34Kssa7HL5EGQBaxZCpxoqnJvPoQGh7RfVpBPq2sckEq1E6fgEu945yr8XX3DKqLpakCQUb1eaBYZe7bkMmj4PMnvVa7nbTRnnwzioLfRM\",\n",
      "            \"xpub\": \"xpub6G3gHP717hdXUtG44ajqKwnWrxEHojQxntRQynEeRxHDhoZFDDZ9grQThQguwJM2gBbvBTDed2PxLaHtNAa9Ldg6RVWUtiTQtkgG5js5mUK\"\n",
      "        },\n",
      "        {\n",
      "            \"address\": \"1NfRmKvJsBXvUtLNfihiqqxnpAdRFoGtPE\",\n",
      "            \"index\": 1,\n",
      "            \"path\": \"m/44'/0'/0'/0/1\",\n",
      "            \"privkey\": \"L3ApBr1n3x3TkSdmmaWvRAGnQqFdBP5GDH7SF7q6j7sibXj8oU3U\",\n",
      "            \"pubkey\": \"02f4e9e57793db775ea37064045afdf123446eca4c93296f393e039e52ea96f8a2\",\n",
      "            \"pubkeyhash\": \"ed9f1ec2a8574108551fffefd1858cea73fdbdc5\",\n",
      "            \"xprv\": \"xprvA34Kssa7HL5EHPfQq6TUgx8r8u1WgQmHWpRBV3KXz7XL7br9LnBbz9JhRbnWaSXDKh7MjUSaZKxD52ZqSKFZfiGtFpu5uC2JDVLZCjAsimP\",\n",
      "            \"xpub\": \"xpub6G3gHP717hdXVsjsw7zV465agvr15sV8t3LnHRj9YT4JzQBHtKVrXwdBGsKx8kESybtXtdMkCnt55veBvguoY8Cyn7Gk71LTMMbXjWFu7Ne\"\n",
      "        },\n",
      "        {\n",
      "            \"address\": \"1ok4pJnW6Be8ixWMcbq9M7VQCFPZf83Em\",\n",
      "            \"index\": 2,\n",
      "            \"path\": \"m/44'/0'/0'/0/2\",\n",
      "            \"privkey\": \"L17832tZARJquLr4yYWjDqrz7KhYdgAofrD1V1w2fgppHHn64yWz\",\n",
      "            \"pubkey\": \"02447aa805b1fdbc8e953917873f2c228b751736aecb51d3dfe9df6bd7824b54ed\",\n",
      "            \"pubkeyhash\": \"08d71570af4575086b73b5b546ae31583d0a3d9e\",\n",
      "            \"xprv\": \"xprvA34Kssa7HL5ELfK9iYPQgKbX91VdRRwpT3VjLTWj5V9uyu7kg5de9GPa2Dp8h3xRq1birCfEMkX5zzq3vvFkruyjykMxPFVpNHGAYD1Wojo\",\n",
      "            \"xpub\": \"xpub6G3gHP717hdXZ9PcpZvR3TYFh3L7ptffpGRL8qvLdpgtrhSuDcwth4i3sUUzJ98KXFSKAkniN3WrLcenmJeEsxWukD5342ZpZjaVqRd2B5N\"\n",
      "        }\n",
      "    ],\n",
      "    \"btc-test\": [\n",
      "        {\n",
      "            \"address\": \"n4PFjRMe51hknuwtXQkoLpcrjL49tdv6NX\",\n",
      "            \"index\": 0,\n",
      "            \"path\": \"m/44'/1'/0'/0/0\",\n",
      "            \"privkey\": \"cSu99Wb9EUpDFLZ7xFkicMZCVGBgRmHkiR6zoZCuKCwWMVBnnZNR\",\n",
      "            \"pubkey\": \"039f0aa25147cc2f64d64a0384bf561f1ae91c2d8160a58c5c9c64a4fdc720586d\",\n",
      "            \"pubkeyhash\": \"fad61f0ddf3ddee69b61a4bf5b56cb4166da995c\",\n",
      "            \"xprv\": \"tprv8jMbsKgPAPHExZ7vaHPGeioCQ49W8wZwkTVL5FV5iRjzkiCEMV5nSr3oUHsdmGmUdsQdKvHHdrpayqjAqAj5UUbQseuwwqbJSZXiJDNzXJZ\",\n",
      "            \"xpub\": \"tpubDG3e1jidJkxur29iTw3s48TJy5fSJGkrKm67MmXP8hYPbCSzysuNdLffeSmSKEMjyE5PeErNcWGgCrQqM5VDiiFUdyZsQiZfshg7HeLJdUM\"\n",
      "        },\n",
      "        {\n",
      "            \"address\": \"mtmShsoL73nUtNFqtzEew8iz1Jnf9jka9X\",\n",
      "            \"index\": 1,\n",
      "            \"path\": \"m/44'/1'/0'/0/1\",\n",
      "            \"privkey\": \"cRsFW35euVE7oUftn4uLFprceAhhfGbt91jgVFbFBY8TirxZRkaT\",\n",
      "            \"pubkey\": \"0386a52ae604d08ec5c4668629f9d083c20e29bed2522789f414e18936b4a0e6d6\",\n",
      "            \"pubkeyhash\": \"91572cbbdbe2040562f85ca9794b9aec1bcf6b1c\",\n",
      "            \"xprv\": \"tprv8jMbsKgPAPHEyfykK4VKeSBfbbZpRxu9LL5L7zp3TA4xxkZqzwEu7sLxti2tjXL7J6LN3BBLvDmHQQZ4gWAhfSVRWqYTYfxpttcmyfuxQrj\",\n",
      "            \"xpub\": \"tpubDG3e1jidJkxus91YCi9v3qqnAd5kbJ63udg7QWrLsRsMoEpcdL4VJMxq4ryX7P3u5efUStBQXC7JytiFdHwqaoo8LyEkGkzSVE1rwhV775X\"\n",
      "        },\n",
      "        {\n",
      "            \"address\": \"mmjnsMTavyHkZxoTBYbW8TPphPwaLhRe9D\",\n",
      "            \"index\": 2,\n",
      "            \"path\": \"m/44'/1'/0'/0/2\",\n",
      "            \"privkey\": \"cT5cDaWsiKcf4keEmJqGhy4PfFw34JMycjb7MKAryBj1qFmWGZkG\",\n",
      "            \"pubkey\": \"0257344cba7b286ec1f52a02483f3dda79e9aa6cf5643a69e66cdf9744f0b462ed\",\n",
      "            \"pubkeyhash\": \"443e4b3c17c7b41ba2190f0781faeb6307028b55\",\n",
      "            \"xprv\": \"tprv8jMbsKgPAPHF4amxiUxSZwMc9qwxcVS4uR92Wb7TDgB8jykMfnC9eMGJjBr91aHQqMQCZp4yodL2Ex216mB5BFySWVwwGJikz2RhVzfjhLd\",\n",
      "            \"xpub\": \"tpubDG3e1jidJkxux3okc8d2yM1iisTtmpcyUijoo79kdwyXaU18JB1jpqtAuJDBrqL6FtR7LbzjgezsnLiZK1e8rSUGAUdFQjhp98ZjyTgYaFB\"\n",
      "        }\n",
      "    ],\n",
      "    \"eth\": [\n",
      "        {\n",
      "            \"address\": \"0x418bD7f60adf8D12f5a0867DfB48c88CD9E2AdF5\",\n",
      "            \"index\": 0,\n",
      "            \"path\": \"m/44'/60'/0'/0/0\",\n",
      "            \"privkey\": \"0x8e7d5bbdf0b0aaf94d51c9396df935bfbe4fddae1800056298ad6a4c76e8b80a\",\n",
      "            \"pubkey\": \"020cc3766f52c754da758a4cc5dfc205f6a9568cecd62269bee81f2ad79d154300\",\n",
      "            \"pubkeyhash\": \"2ce59c25e2291099aef1e1f4b6bacff152669dce\",\n",
      "            \"xprv\": \"xprvA32o4W6pnHaLGA2Mi6bwxN8wxKWUA2sTVP3QS5gwneX4uYNyr8orS8XtRkgftc4PAp49CfJbBR2jxLEe4DrKaxfWB1KupcZ56QKbH1WPD2K\",\n",
      "            \"xpub\": \"xpub6G29U1dicf8dUe6pp88xKW5gWMLxZVbJrby1EU6ZLz43nLi8Pg86yvrNGzjJempiJWod6vzWBUpCvzczgzvpyWykVBmF7uzYG9BbysDkXHK\"\n",
      "        },\n",
      "        {\n",
      "            \"address\": \"0xC2cBeaCcDc8862b6DAD7385C11E39A1684F74622\",\n",
      "            \"index\": 1,\n",
      "            \"path\": \"m/44'/60'/0'/0/1\",\n",
      "            \"privkey\": \"0x05591c71e7b607d4ff617b5a9b8da0070ed44239f050dee5981243f8e22d8486\",\n",
      "            \"pubkey\": \"02f2777b22f5f78e4b1f0ea149d8e551210c7d587ba192b65267073682afb823c1\",\n",
      "            \"pubkeyhash\": \"9734d41542f3ad4a84ef7e71379ace77e9da04f9\",\n",
      "            \"xprv\": \"xprvA32o4W6pnHaLJ8bLsihNdUpUFLLoJvPwnDkT6amPwgfyemnmRbmDDaHTQ8LMg2kvS1CUHDRGpRc1S1QfKpdZhq8Ep189o78s2376ofkkAiX\",\n",
      "            \"xpub\": \"xpub6G29U1dicf8dWcfoykENzcmCoNBHiP7o9Sg3tyB1W2CxXa7uy95TmNbwFRAYzYmCHLjke4cA64NLMvJu5jt8UdWsT39QCfH8WHs6Q9K67mT\"\n",
      "        },\n",
      "        {\n",
      "            \"address\": \"0xC700F49f59a3D6005D899f4dD5351e7f046320fD\",\n",
      "            \"index\": 2,\n",
      "            \"path\": \"m/44'/60'/0'/0/2\",\n",
      "            \"privkey\": \"0x9ef40cbd83c90d40d81c548a105255f441e650b8d7243a0e043f7b56a9a4b2c7\",\n",
      "            \"pubkey\": \"03a9d931e36697a11d4073e6a76049973030830417ad8ffceb34a8bd8b0a972e38\",\n",
      "            \"pubkeyhash\": \"195bbfcf848d60241cb95c00cf0d14aef97f96f3\",\n",
      "            \"xprv\": \"xprvA32o4W6pnHaLKZxWZ2f879mpAKKgBqHzozvVZ1o6WgcfUwKh98JVmaktWCysJmQepQ6mxmUMjCMYBsGKrBQWYryaTRjxBH97r9PMpNASoQB\",\n",
      "            \"xpub\": \"xpub6G29U1dicf8dY42yf4C8UHiYiMAAbJ1rBDr6MQCi529eMjeqgfckKP5NMW3BE5KHFfApW5rALnrSnfso1VkHfZ1pfpcjBWiB2R4DWzkqKQW\"\n",
      "        }\n",
      "    ]\n",
      "}\n"
     ]
    }
   ],
   "source": [
    "eth_PrivateKey = keys[\"eth\"][0]['privkey']\n",
    "btc_PrivateKey = keys['btc-test'][0]['privkey']\n",
    "\n",
    "print(json.dumps(eth_PrivateKey, indent=4, sort_keys=True))\n",
    "print(json.dumps(btc_PrivateKey, indent=4, sort_keys=True))\n",
    "print(json.dumps(keys, indent=4, sort_keys=True))"
   ]
  },
  {
   "cell_type": "code",
   "execution_count": 299,
   "metadata": {},
   "outputs": [],
   "source": [
    "# create a function that convert the privkey string in a child key to an account object.\n",
    "def priv_key_to_account(coin,priv_key):\n",
    "    print(coin)\n",
    "    print(priv_key)\n",
    "    if coin == ETH:\n",
    "        return Account.privateKeyToAccount(priv_key)\n",
    "    elif coin == BTCTEST:\n",
    "        return PrivateKeyTestnet(priv_key)"
   ]
  },
  {
   "cell_type": "code",
   "execution_count": 343,
   "metadata": {},
   "outputs": [],
   "source": [
    "def create_tx(coin, account, recipient, amount):\n",
    "    if coin == ETH: \n",
    "        val = w3.toWei(amount, \"ether\")\n",
    "        gasEstimate = w3.eth.estimateGas(\n",
    "            {\"from\":eth_acc.address, \"to\":recipient, \"value\": amount}\n",
    "        )\n",
    "        return { \n",
    "            \"to\": recipient,\n",
    "            \"from\": eth_acc.address,\n",
    "            \"value\": val,\n",
    "            \"gas\": gasEstimate,\n",
    "            \"gasPrice\": w3.eth.gasPrice,\n",
    "            \"nonce\": w3.eth.getTransactionCount(eth_acc.address),\n",
    "            \"chainId\": w3.eth.chainId\n",
    "        }\n",
    "    \n",
    "    elif coin == BTCTEST:\n",
    "        return PrivateKeyTestnet.prepare_transaction(account.address, [(recipient, amount, BTC)])\n",
    "    "
   ]
  },
  {
   "cell_type": "code",
   "execution_count": 345,
   "metadata": {},
   "outputs": [],
   "source": [
    "BTC = 'btc'\n",
    "ETH = 'eth'\n",
    "BTCTEST = 'btc-test'"
   ]
  },
  {
   "cell_type": "code",
   "execution_count": 346,
   "metadata": {},
   "outputs": [
    {
     "name": "stdout",
     "output_type": "stream",
     "text": [
      "eth\n",
      "0x8e7d5bbdf0b0aaf94d51c9396df935bfbe4fddae1800056298ad6a4c76e8b80a\n"
     ]
    }
   ],
   "source": [
    "# create a function to hold Ethereum \n",
    "eth_acc = priv_key_to_account(ETH, derive_wallets(mnemonic, ETH,5)[0]['privkey'])"
   ]
  },
  {
   "cell_type": "code",
   "execution_count": 365,
   "metadata": {},
   "outputs": [],
   "source": [
    "# create a function to send txn\n",
    "def send_txn(coin,account,recipient, amount):\n",
    "    txn = create_tx(coin, account, recipient, amount)\n",
    "    if coin == ETH:\n",
    "        sgn = eth_acc.sign_transaction(txn)\n",
    "        result = w3.eth.sendRawTransaction(sgn.rawTransaction)\n",
    "        return result.hex()\n",
    "       # signed_txn = eth_acc.sign_transaction(txn)\n",
    "#         result = w3.eth.sendRawTransaction(signed_txn.rawTransaction)\n",
    "#         print(result.hex())\n",
    "#         return result.hex()\n",
    "    elif coin == BTCTEST:\n",
    "        tx_btctest = create_tx(coin, account, recipient, amount)\n",
    "        signed_txn = account.sign_transaction(tx_btctest)\n",
    "        print(signed_txn)\n",
    "        return NetworkAPI.broadcast_tx_testnet(signed_txn)"
   ]
  },
  {
   "cell_type": "code",
   "execution_count": 366,
   "metadata": {},
   "outputs": [
    {
     "name": "stdout",
     "output_type": "stream",
     "text": [
      "btc-test\n",
      "cSu99Wb9EUpDFLZ7xFkicMZCVGBgRmHkiR6zoZCuKCwWMVBnnZNR\n"
     ]
    }
   ],
   "source": [
    "#BTC-TEST Transactions\n",
    "btc_acc = priv_key_to_account(BTCTEST,btc_PrivateKey)"
   ]
  },
  {
   "cell_type": "code",
   "execution_count": 367,
   "metadata": {},
   "outputs": [
    {
     "name": "stdout",
     "output_type": "stream",
     "text": [
      "0100000001c5d250f35a3ad2761ef884fabcd050b64ef2cf136ee4c032998921ef85b6d958010000006a47304402202b98aca4baf0e700aa0fc8832f88f602aba76b48f03c0f29b720cdb820b5b4b802200a335169aba21f8e91150d90ebd459670bb1153f1e976ddc866667e8695f5f420121039f0aa25147cc2f64d64a0384bf561f1ae91c2d8160a58c5c9c64a4fdc720586dffffffff02a0860100000000001976a91491572cbbdbe2040562f85ca9794b9aec1bcf6b1c88ac70112500000000001976a914fad61f0ddf3ddee69b61a4bf5b56cb4166da995c88ac00000000\n"
     ]
    }
   ],
   "source": [
    "# create BTC transaction\n",
    "# create_tx(BTCTEST,btc_acc,\"n3D8vVvLyD7pPQmWoQgMMERZrDjmBheBpU\", 0.1)\n",
    "\n",
    "# Send BTC transaction\n",
    "send_txn(BTCTEST,btc_acc,\"mtmShsoL73nUtNFqtzEew8iz1Jnf9jka9X\", 0.001)"
   ]
  },
  {
   "cell_type": "code",
   "execution_count": 368,
   "metadata": {},
   "outputs": [
    {
     "data": {
      "text/plain": [
       "'0x87ebc64b76c3eaea8a83987bed8d8718a4325c8e44b4f5645e81d3b258559ec4'"
      ]
     },
     "execution_count": 368,
     "metadata": {},
     "output_type": "execute_result"
    }
   ],
   "source": [
    "# ETH Transactions\n",
    "# create_tx(ETH,eth_acc,\"0xFC88e5B6AC0ed626E79B69d7f213dE40c14AfD52\", 1)\n",
    "\n",
    "send_txn(ETH, eth_acc,\"0xFC88e5B6AC0ed626E79B69d7f213dE40c14AfD52\", 1)"
   ]
  },
  {
   "cell_type": "code",
   "execution_count": 369,
   "metadata": {},
   "outputs": [],
   "source": [
    "#connecting to HTTP with address pk\n",
    "w3 = Web3(Web3.HTTPProvider(\"http://127.0.0.1:8545/0x30c2577db89760baa9ba4058b1033b9e103f287e5de1689e35833ee8e7a7c857\"))"
   ]
  },
  {
   "cell_type": "code",
   "execution_count": 370,
   "metadata": {},
   "outputs": [
    {
     "data": {
      "text/plain": [
       "True"
      ]
     },
     "execution_count": 370,
     "metadata": {},
     "output_type": "execute_result"
    }
   ],
   "source": [
    "# double check if  I am connected to blockchain. \n",
    "w3.isConnected()"
   ]
  },
  {
   "cell_type": "code",
   "execution_count": 371,
   "metadata": {},
   "outputs": [
    {
     "data": {
      "text/plain": [
       "15997900000000000000"
      ]
     },
     "execution_count": 371,
     "metadata": {},
     "output_type": "execute_result"
    }
   ],
   "source": [
    "# ## Check the Balance of the account with local mining blockchain\n",
    "w3.eth.getBalance(\"0x418bD7f60adf8D12f5a0867DfB48c88CD9E2AdF5\")"
   ]
  },
  {
   "cell_type": "code",
   "execution_count": 372,
   "metadata": {},
   "outputs": [
    {
     "data": {
      "text/plain": [
       "'0x12db1e3dfe38fde1867e02f7594087b9cc00b0a143cbb49974085ba2ab175147'"
      ]
     },
     "execution_count": 372,
     "metadata": {},
     "output_type": "execute_result"
    }
   ],
   "source": [
    "send_txn(ETH, eth_acc,\"0xFC88e5B6AC0ed626E79B69d7f213dE40c14AfD52\", 10)"
   ]
  },
  {
   "cell_type": "code",
   "execution_count": 373,
   "metadata": {},
   "outputs": [
    {
     "data": {
      "text/plain": [
       "124000000000000000000"
      ]
     },
     "execution_count": 373,
     "metadata": {},
     "output_type": "execute_result"
    }
   ],
   "source": [
    "w3.eth.getBalance(\"0xFC88e5B6AC0ed626E79B69d7f213dE40c14AfD52\")"
   ]
  },
  {
   "cell_type": "code",
   "execution_count": null,
   "metadata": {},
   "outputs": [],
   "source": []
  }
 ],
 "metadata": {
  "kernelspec": {
   "display_name": "Python 3",
   "language": "python",
   "name": "python3"
  },
  "language_info": {
   "codemirror_mode": {
    "name": "ipython",
    "version": 3
   },
   "file_extension": ".py",
   "mimetype": "text/x-python",
   "name": "python",
   "nbconvert_exporter": "python",
   "pygments_lexer": "ipython3",
   "version": "3.7.9"
  }
 },
 "nbformat": 4,
 "nbformat_minor": 4
}
